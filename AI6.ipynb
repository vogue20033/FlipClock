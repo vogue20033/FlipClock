{
  "nbformat": 4,
  "nbformat_minor": 0,
  "metadata": {
    "colab": {
      "name": "AI6.ipynb",
      "version": "0.3.2",
      "provenance": [],
      "include_colab_link": true
    },
    "kernelspec": {
      "name": "python3",
      "display_name": "Python 3"
    }
  },
  "cells": [
    {
      "cell_type": "markdown",
      "metadata": {
        "id": "view-in-github",
        "colab_type": "text"
      },
      "source": [
        "<a href=\"https://colab.research.google.com/github/vogue20033/FlipClock/blob/master/AI6.ipynb\" target=\"_parent\"><img src=\"https://colab.research.google.com/assets/colab-badge.svg\" alt=\"Open In Colab\"/></a>"
      ]
    },
    {
      "metadata": {
        "id": "WxPY567pbv-T",
        "colab_type": "code",
        "outputId": "f445b0dc-d419-4dc7-e625-60e8344f72a7",
        "colab": {
          "base_uri": "https://localhost:8080/",
          "height": 35
        }
      },
      "cell_type": "code",
      "source": [
        "scalar = 2\n",
        "scalar"
      ],
      "execution_count": 7,
      "outputs": [
        {
          "output_type": "execute_result",
          "data": {
            "text/plain": [
              "2"
            ]
          },
          "metadata": {
            "tags": []
          },
          "execution_count": 7
        }
      ]
    },
    {
      "metadata": {
        "id": "hBzKkbVOcDY8",
        "colab_type": "code",
        "colab": {}
      },
      "cell_type": "code",
      "source": [
        "import numpy as np\n",
        "import pandas as pd\n",
        "import scipy"
      ],
      "execution_count": 0,
      "outputs": []
    },
    {
      "metadata": {
        "id": "78XTNsgwc3Zg",
        "colab_type": "code",
        "colab": {
          "base_uri": "https://localhost:8080/",
          "height": 35
        },
        "outputId": "84ea631c-09ca-4c71-92d3-a32aae5c2f8c"
      },
      "cell_type": "code",
      "source": [
        "print(np.isscalar(scalar), type(scalar))"
      ],
      "execution_count": 9,
      "outputs": [
        {
          "output_type": "stream",
          "text": [
            "True <class 'int'>\n"
          ],
          "name": "stdout"
        }
      ]
    },
    {
      "metadata": {
        "id": "2BU_d-S-eiWa",
        "colab_type": "code",
        "colab": {
          "base_uri": "https://localhost:8080/",
          "height": 35
        },
        "outputId": "4b2dac5e-f764-4300-a8f9-c8fc97e9b3b0"
      },
      "cell_type": "code",
      "source": [
        "[2]"
      ],
      "execution_count": 10,
      "outputs": [
        {
          "output_type": "execute_result",
          "data": {
            "text/plain": [
              "[2]"
            ]
          },
          "metadata": {
            "tags": []
          },
          "execution_count": 10
        }
      ]
    },
    {
      "metadata": {
        "id": "GfcpWYtUenq0",
        "colab_type": "code",
        "colab": {
          "base_uri": "https://localhost:8080/",
          "height": 35
        },
        "outputId": "efe452ac-6af8-4664-d245-f8354c62c2ef"
      },
      "cell_type": "code",
      "source": [
        "vector_list = [24,16,45,50]\n",
        "vector_list"
      ],
      "execution_count": 11,
      "outputs": [
        {
          "output_type": "execute_result",
          "data": {
            "text/plain": [
              "[24, 16, 45, 50]"
            ]
          },
          "metadata": {
            "tags": []
          },
          "execution_count": 11
        }
      ]
    },
    {
      "metadata": {
        "id": "mmnUiWQAew-e",
        "colab_type": "code",
        "colab": {
          "base_uri": "https://localhost:8080/",
          "height": 35
        },
        "outputId": "2ad94fd7-80ff-458e-9368-3dc6a575bcaa"
      },
      "cell_type": "code",
      "source": [
        "vector_np = np.array([24,16,45,50])\n",
        "vector_np"
      ],
      "execution_count": 13,
      "outputs": [
        {
          "output_type": "execute_result",
          "data": {
            "text/plain": [
              "array([24, 16, 45, 50])"
            ]
          },
          "metadata": {
            "tags": []
          },
          "execution_count": 13
        }
      ]
    },
    {
      "metadata": {
        "id": "fyiMflFdfGRT",
        "colab_type": "code",
        "colab": {
          "base_uri": "https://localhost:8080/",
          "height": 89
        },
        "outputId": "f4960d70-53e5-4d67-9e6a-451b2f168fdf"
      },
      "cell_type": "code",
      "source": [
        "vector_reshaped = vector_np.reshape(4,1)\n",
        "vector_reshaped"
      ],
      "execution_count": 16,
      "outputs": [
        {
          "output_type": "execute_result",
          "data": {
            "text/plain": [
              "array([[24],\n",
              "       [16],\n",
              "       [45],\n",
              "       [50]])"
            ]
          },
          "metadata": {
            "tags": []
          },
          "execution_count": 16
        }
      ]
    },
    {
      "metadata": {
        "id": "BcGM2tETfca3",
        "colab_type": "code",
        "colab": {
          "base_uri": "https://localhost:8080/",
          "height": 35
        },
        "outputId": "13b7e818-58a2-4971-feb7-a55290484485"
      },
      "cell_type": "code",
      "source": [
        "vector_np.shape"
      ],
      "execution_count": 15,
      "outputs": [
        {
          "output_type": "execute_result",
          "data": {
            "text/plain": [
              "(4,)"
            ]
          },
          "metadata": {
            "tags": []
          },
          "execution_count": 15
        }
      ]
    },
    {
      "metadata": {
        "id": "ONpZyQxXfo35",
        "colab_type": "code",
        "colab": {
          "base_uri": "https://localhost:8080/",
          "height": 35
        },
        "outputId": "50a593cb-a3ba-46dd-ad20-56baebfc2a6c"
      },
      "cell_type": "code",
      "source": [
        "vector_reshaped.shape"
      ],
      "execution_count": 19,
      "outputs": [
        {
          "output_type": "execute_result",
          "data": {
            "text/plain": [
              "(4, 1)"
            ]
          },
          "metadata": {
            "tags": []
          },
          "execution_count": 19
        }
      ]
    },
    {
      "metadata": {
        "id": "nKGVM69DgXzv",
        "colab_type": "code",
        "colab": {
          "base_uri": "https://localhost:8080/",
          "height": 35
        },
        "outputId": "332a4161-b3bb-42ba-89b8-0368901dc79a"
      },
      "cell_type": "code",
      "source": [
        "# Vector Addition\n",
        "A = vector_np\n",
        "B = np.array([21])\n",
        "print(A + B)"
      ],
      "execution_count": 20,
      "outputs": [
        {
          "output_type": "stream",
          "text": [
            "[45 37 66 71]\n"
          ],
          "name": "stdout"
        }
      ]
    },
    {
      "metadata": {
        "id": "736mDWyogqXO",
        "colab_type": "code",
        "colab": {
          "base_uri": "https://localhost:8080/",
          "height": 89
        },
        "outputId": "29267512-dfd2-4a06-a40b-acadfd206aac"
      },
      "cell_type": "code",
      "source": [
        "vector_reshaped + B"
      ],
      "execution_count": 21,
      "outputs": [
        {
          "output_type": "execute_result",
          "data": {
            "text/plain": [
              "array([[45],\n",
              "       [37],\n",
              "       [66],\n",
              "       [71]])"
            ]
          },
          "metadata": {
            "tags": []
          },
          "execution_count": 21
        }
      ]
    },
    {
      "metadata": {
        "id": "jKVHfG9EguZx",
        "colab_type": "code",
        "colab": {}
      },
      "cell_type": "code",
      "source": [
        "# Exercise\n",
        "A = np.array([21,30,18])\n",
        "B = np.array([14,19,1])\n",
        "C = [2]\n",
        "D = [12,3]"
      ],
      "execution_count": 0,
      "outputs": []
    },
    {
      "metadata": {
        "id": "NNubvD40hKwI",
        "colab_type": "code",
        "colab": {
          "base_uri": "https://localhost:8080/",
          "height": 35
        },
        "outputId": "c64efd55-9bbc-48b9-9456-ca68f1c177c8"
      },
      "cell_type": "code",
      "source": [
        "A+B\n"
      ],
      "execution_count": 23,
      "outputs": [
        {
          "output_type": "execute_result",
          "data": {
            "text/plain": [
              "array([35, 49, 19])"
            ]
          },
          "metadata": {
            "tags": []
          },
          "execution_count": 23
        }
      ]
    },
    {
      "metadata": {
        "id": "sJAKSktxhOe1",
        "colab_type": "code",
        "colab": {
          "base_uri": "https://localhost:8080/",
          "height": 35
        },
        "outputId": "6a8d11dd-7ac1-4608-cb9c-4be5acccbc66"
      },
      "cell_type": "code",
      "source": [
        "A*B\n"
      ],
      "execution_count": 24,
      "outputs": [
        {
          "output_type": "execute_result",
          "data": {
            "text/plain": [
              "array([294, 570,  18])"
            ]
          },
          "metadata": {
            "tags": []
          },
          "execution_count": 24
        }
      ]
    },
    {
      "metadata": {
        "id": "mFjqSQlchR8z",
        "colab_type": "code",
        "colab": {
          "base_uri": "https://localhost:8080/",
          "height": 35
        },
        "outputId": "10a2e2a7-7bfa-4fec-cd1a-082b04fae081"
      },
      "cell_type": "code",
      "source": [
        "A+C\n"
      ],
      "execution_count": 25,
      "outputs": [
        {
          "output_type": "execute_result",
          "data": {
            "text/plain": [
              "array([23, 32, 20])"
            ]
          },
          "metadata": {
            "tags": []
          },
          "execution_count": 25
        }
      ]
    },
    {
      "metadata": {
        "id": "d9BtFGIVhkF4",
        "colab_type": "code",
        "colab": {
          "base_uri": "https://localhost:8080/",
          "height": 35
        },
        "outputId": "b51ff472-4655-4659-9c44-1ae73135c318"
      },
      "cell_type": "code",
      "source": [
        "A-C"
      ],
      "execution_count": 26,
      "outputs": [
        {
          "output_type": "execute_result",
          "data": {
            "text/plain": [
              "array([19, 28, 16])"
            ]
          },
          "metadata": {
            "tags": []
          },
          "execution_count": 26
        }
      ]
    },
    {
      "metadata": {
        "id": "b9PESg_zhl9M",
        "colab_type": "code",
        "colab": {
          "base_uri": "https://localhost:8080/",
          "height": 35
        },
        "outputId": "47449b6f-63cc-4e71-aae1-2aeea78d94d7"
      },
      "cell_type": "code",
      "source": [
        "A*C"
      ],
      "execution_count": 27,
      "outputs": [
        {
          "output_type": "execute_result",
          "data": {
            "text/plain": [
              "array([42, 60, 36])"
            ]
          },
          "metadata": {
            "tags": []
          },
          "execution_count": 27
        }
      ]
    },
    {
      "metadata": {
        "id": "2MP1Bp-Bho29",
        "colab_type": "code",
        "colab": {
          "base_uri": "https://localhost:8080/",
          "height": 172
        },
        "outputId": "ca731c0d-ed32-4965-b5fc-d3b47dcba2dd"
      },
      "cell_type": "code",
      "source": [
        "A+D"
      ],
      "execution_count": 28,
      "outputs": [
        {
          "output_type": "error",
          "ename": "ValueError",
          "evalue": "ignored",
          "traceback": [
            "\u001b[0;31m---------------------------------------------------------------------------\u001b[0m",
            "\u001b[0;31mValueError\u001b[0m                                Traceback (most recent call last)",
            "\u001b[0;32m<ipython-input-28-812d7bc955d8>\u001b[0m in \u001b[0;36m<module>\u001b[0;34m()\u001b[0m\n\u001b[0;32m----> 1\u001b[0;31m \u001b[0mA\u001b[0m\u001b[0;34m+\u001b[0m\u001b[0mD\u001b[0m\u001b[0;34m\u001b[0m\u001b[0;34m\u001b[0m\u001b[0m\n\u001b[0m",
            "\u001b[0;31mValueError\u001b[0m: operands could not be broadcast together with shapes (3,) (2,) "
          ]
        }
      ]
    },
    {
      "metadata": {
        "id": "YSC9YSmhh0QE",
        "colab_type": "code",
        "colab": {}
      },
      "cell_type": "code",
      "source": [
        "B_reshaped = B.reshape (3,1)"
      ],
      "execution_count": 0,
      "outputs": []
    },
    {
      "metadata": {
        "id": "pC68BIpgiBRc",
        "colab_type": "code",
        "colab": {
          "base_uri": "https://localhost:8080/",
          "height": 71
        },
        "outputId": "7c63f2dc-fb6a-4599-d03e-17b387a80f0d"
      },
      "cell_type": "code",
      "source": [
        "A * (B_reshaped)"
      ],
      "execution_count": 39,
      "outputs": [
        {
          "output_type": "execute_result",
          "data": {
            "text/plain": [
              "array([[294, 420, 252],\n",
              "       [399, 570, 342],\n",
              "       [ 21,  30,  18]])"
            ]
          },
          "metadata": {
            "tags": []
          },
          "execution_count": 39
        }
      ]
    },
    {
      "metadata": {
        "id": "m8ghg6OdjTdA",
        "colab_type": "code",
        "colab": {
          "base_uri": "https://localhost:8080/",
          "height": 53
        },
        "outputId": "5ae70891-be81-47d4-e36d-8239d9394d8f"
      },
      "cell_type": "code",
      "source": [
        "A_np = np.matrix([[-1, 2],\n",
        "                 [4, 3]])\n",
        "A_np"
      ],
      "execution_count": 40,
      "outputs": [
        {
          "output_type": "execute_result",
          "data": {
            "text/plain": [
              "matrix([[-1,  2],\n",
              "        [ 4,  3]])"
            ]
          },
          "metadata": {
            "tags": []
          },
          "execution_count": 40
        }
      ]
    },
    {
      "metadata": {
        "id": "ft5BwuAukGjS",
        "colab_type": "code",
        "colab": {
          "base_uri": "https://localhost:8080/",
          "height": 53
        },
        "outputId": "11012ddc-982d-4af0-bdb1-8aa052c69559"
      },
      "cell_type": "code",
      "source": [
        "B_np = np.matrix([[-7, 4],\n",
        "                 [4, 0]])\n",
        "B_np"
      ],
      "execution_count": 41,
      "outputs": [
        {
          "output_type": "execute_result",
          "data": {
            "text/plain": [
              "matrix([[-7,  4],\n",
              "        [ 4,  0]])"
            ]
          },
          "metadata": {
            "tags": []
          },
          "execution_count": 41
        }
      ]
    },
    {
      "metadata": {
        "id": "fNMYTW9Skozo",
        "colab_type": "code",
        "colab": {
          "base_uri": "https://localhost:8080/",
          "height": 71
        },
        "outputId": "beb003b0-1729-45a2-d642-b688e4f4dc19"
      },
      "cell_type": "code",
      "source": [
        "# 3 by 3 matrix\n",
        "C_np = np.matrix([[3, 0, -5],\n",
        "                 [9, 8, -2],\n",
        "                  [5, 0, 8]])\n",
        "C_np"
      ],
      "execution_count": 44,
      "outputs": [
        {
          "output_type": "execute_result",
          "data": {
            "text/plain": [
              "matrix([[ 3,  0, -5],\n",
              "        [ 9,  8, -2],\n",
              "        [ 5,  0,  8]])"
            ]
          },
          "metadata": {
            "tags": []
          },
          "execution_count": 44
        }
      ]
    },
    {
      "metadata": {
        "id": "3f1AXdjPlM1q",
        "colab_type": "code",
        "colab": {
          "base_uri": "https://localhost:8080/",
          "height": 53
        },
        "outputId": "35523887-1113-42c4-e6a3-b9c621ce5139"
      },
      "cell_type": "code",
      "source": [
        " # Matrix Multiplication\n",
        "  Sum_A_B = A_np * B_np\n",
        "  Sum_A_B"
      ],
      "execution_count": 45,
      "outputs": [
        {
          "output_type": "execute_result",
          "data": {
            "text/plain": [
              "matrix([[ 15,  -4],\n",
              "        [-16,  16]])"
            ]
          },
          "metadata": {
            "tags": []
          },
          "execution_count": 45
        }
      ]
    },
    {
      "metadata": {
        "id": "l1P-rQywmfAj",
        "colab_type": "code",
        "colab": {
          "base_uri": "https://localhost:8080/",
          "height": 53
        },
        "outputId": "6fb60e09-663f-49de-b413-a0a48afdc5f8"
      },
      "cell_type": "code",
      "source": [
        "# Element Wise Multiplication\n",
        "Elsum_A_B = np.multiply(A_np, B_np)\n",
        "Elsum_A_B"
      ],
      "execution_count": 46,
      "outputs": [
        {
          "output_type": "execute_result",
          "data": {
            "text/plain": [
              "matrix([[ 7,  8],\n",
              "        [16,  0]])"
            ]
          },
          "metadata": {
            "tags": []
          },
          "execution_count": 46
        }
      ]
    },
    {
      "metadata": {
        "id": "eSgjIDL0nw1d",
        "colab_type": "code",
        "colab": {
          "base_uri": "https://localhost:8080/",
          "height": 53
        },
        "outputId": "f41f7d73-beaa-423b-c0fe-024800648faa"
      },
      "cell_type": "code",
      "source": [
        "# Solving Matrix equation - Fing the inverse of A\n",
        "A_inverse = np.linalg.inv(A_np)\n",
        "A_inverse"
      ],
      "execution_count": 48,
      "outputs": [
        {
          "output_type": "execute_result",
          "data": {
            "text/plain": [
              "matrix([[-0.27272727,  0.18181818],\n",
              "        [ 0.36363636,  0.09090909]])"
            ]
          },
          "metadata": {
            "tags": []
          },
          "execution_count": 48
        }
      ]
    },
    {
      "metadata": {
        "id": "PhYDUEz7oReW",
        "colab_type": "code",
        "colab": {
          "base_uri": "https://localhost:8080/",
          "height": 53
        },
        "outputId": "645183b5-3123-4805-fb50-09906f4cb338"
      },
      "cell_type": "code",
      "source": [
        "X = A_inverse * B_np\n",
        "X"
      ],
      "execution_count": 52,
      "outputs": [
        {
          "output_type": "execute_result",
          "data": {
            "text/plain": [
              "matrix([[ 2.63636364, -1.09090909],\n",
              "        [-2.18181818,  1.45454545]])"
            ]
          },
          "metadata": {
            "tags": []
          },
          "execution_count": 52
        }
      ]
    },
    {
      "metadata": {
        "id": "6aQEIZLjpF-U",
        "colab_type": "code",
        "colab": {
          "base_uri": "https://localhost:8080/",
          "height": 53
        },
        "outputId": "829eeab3-10c6-444c-bb5e-d15af9dee513"
      },
      "cell_type": "code",
      "source": [
        "# Using  Scipy to compute\n",
        "X = np.linalg.solve(A_np, B_np)\n",
        "X"
      ],
      "execution_count": 53,
      "outputs": [
        {
          "output_type": "execute_result",
          "data": {
            "text/plain": [
              "matrix([[ 2.63636364, -1.09090909],\n",
              "        [-2.18181818,  1.45454545]])"
            ]
          },
          "metadata": {
            "tags": []
          },
          "execution_count": 53
        }
      ]
    },
    {
      "metadata": {
        "id": "J-ZV2A10rJ-7",
        "colab_type": "code",
        "colab": {
          "base_uri": "https://localhost:8080/",
          "height": 35
        },
        "outputId": "9c7ce68c-196a-4036-a833-d845dad02c0d"
      },
      "cell_type": "code",
      "source": [
        "#find the Determinant\n",
        "det = np.linalg.det(A_np)\n",
        "det"
      ],
      "execution_count": 54,
      "outputs": [
        {
          "output_type": "execute_result",
          "data": {
            "text/plain": [
              "-11.000000000000002"
            ]
          },
          "metadata": {
            "tags": []
          },
          "execution_count": 54
        }
      ]
    },
    {
      "metadata": {
        "id": "pq1AC9uqrXd6",
        "colab_type": "code",
        "colab": {
          "base_uri": "https://localhost:8080/",
          "height": 53
        },
        "outputId": "28440b6e-db4d-4601-e72d-5e94866c45ce"
      },
      "cell_type": "code",
      "source": [
        "# let find the tranpose\n",
        "transpose = np.transpose(A_np)\n",
        "transpose"
      ],
      "execution_count": 57,
      "outputs": [
        {
          "output_type": "execute_result",
          "data": {
            "text/plain": [
              "matrix([[-1,  4],\n",
              "        [ 2,  3]])"
            ]
          },
          "metadata": {
            "tags": []
          },
          "execution_count": 57
        }
      ]
    },
    {
      "metadata": {
        "id": "MTqA738xrzXQ",
        "colab_type": "code",
        "colab": {
          "base_uri": "https://localhost:8080/",
          "height": 71
        },
        "outputId": "24ff6a74-fb5a-42ba-e6cc-221b693da710"
      },
      "cell_type": "code",
      "source": [
        "transpose = np.transpose(C_np)\n",
        "transpose"
      ],
      "execution_count": 58,
      "outputs": [
        {
          "output_type": "execute_result",
          "data": {
            "text/plain": [
              "matrix([[ 3,  9,  5],\n",
              "        [ 0,  8,  0],\n",
              "        [-5, -2,  8]])"
            ]
          },
          "metadata": {
            "tags": []
          },
          "execution_count": 58
        }
      ]
    },
    {
      "metadata": {
        "id": "IV41LkLUsYHe",
        "colab_type": "code",
        "colab": {
          "base_uri": "https://localhost:8080/",
          "height": 35
        },
        "outputId": "ef97ef10-ffb0-4eeb-da5b-03efbe8d9c61"
      },
      "cell_type": "code",
      "source": [
        "eigvals = np.linalg.eigvals(A_np)\n",
        "eigvals\n",
        "# print (\"the eng values\")"
      ],
      "execution_count": 59,
      "outputs": [
        {
          "output_type": "execute_result",
          "data": {
            "text/plain": [
              "array([-2.46410162,  4.46410162])"
            ]
          },
          "metadata": {
            "tags": []
          },
          "execution_count": 59
        }
      ]
    },
    {
      "metadata": {
        "id": "s0kzNvqXtF9y",
        "colab_type": "code",
        "colab": {
          "base_uri": "https://localhost:8080/",
          "height": 35
        },
        "outputId": "73b8d039-f015-4e01-a517-0b09f795a906"
      },
      "cell_type": "code",
      "source": [
        "eigvals = np.linalg.eigvals(A_np)\n",
        "print (\"the eng values are\", eigvals[0], \"and\", eigvals[1])"
      ],
      "execution_count": 60,
      "outputs": [
        {
          "output_type": "stream",
          "text": [
            "the eng values are -2.4641016151377544 and 4.464101615137754\n"
          ],
          "name": "stdout"
        }
      ]
    },
    {
      "metadata": {
        "id": "OV4XNmwetoV0",
        "colab_type": "code",
        "colab": {
          "base_uri": "https://localhost:8080/",
          "height": 71
        },
        "outputId": "a2ac95cf-f2c7-48ab-fd44-a6c38b532e3d"
      },
      "cell_type": "code",
      "source": [
        "#Ones\n",
        "X = np.ones((3,3))\n",
        "X"
      ],
      "execution_count": 61,
      "outputs": [
        {
          "output_type": "execute_result",
          "data": {
            "text/plain": [
              "array([[1., 1., 1.],\n",
              "       [1., 1., 1.],\n",
              "       [1., 1., 1.]])"
            ]
          },
          "metadata": {
            "tags": []
          },
          "execution_count": 61
        }
      ]
    },
    {
      "metadata": {
        "id": "poh6aWQCt1gR",
        "colab_type": "code",
        "colab": {
          "base_uri": "https://localhost:8080/",
          "height": 35
        },
        "outputId": "4377a462-464b-4065-d22d-ec910f476447"
      },
      "cell_type": "code",
      "source": [
        "X = np.arange(5)\n",
        "X"
      ],
      "execution_count": 64,
      "outputs": [
        {
          "output_type": "execute_result",
          "data": {
            "text/plain": [
              "array([0, 1, 2, 3, 4])"
            ]
          },
          "metadata": {
            "tags": []
          },
          "execution_count": 64
        }
      ]
    },
    {
      "metadata": {
        "id": "HQ_fZWAVuGDI",
        "colab_type": "code",
        "colab": {
          "base_uri": "https://localhost:8080/",
          "height": 89
        },
        "outputId": "3be87afd-f21f-4eea-89cf-e2bbb3378371"
      },
      "cell_type": "code",
      "source": [
        "y = np.random.rand(4,4)\n",
        "y"
      ],
      "execution_count": 65,
      "outputs": [
        {
          "output_type": "execute_result",
          "data": {
            "text/plain": [
              "array([[0.64658474, 0.89501141, 0.74385673, 0.34072498],\n",
              "       [0.75280126, 0.86104827, 0.43383701, 0.85804725],\n",
              "       [0.57868805, 0.54963776, 0.61205373, 0.33871046],\n",
              "       [0.19662731, 0.28927882, 0.21071609, 0.89454768]])"
            ]
          },
          "metadata": {
            "tags": []
          },
          "execution_count": 65
        }
      ]
    },
    {
      "metadata": {
        "id": "kwuA6a1iueq2",
        "colab_type": "code",
        "colab": {}
      },
      "cell_type": "code",
      "source": [
        ""
      ],
      "execution_count": 0,
      "outputs": []
    },
    {
      "metadata": {
        "id": "6ByM7wzH2ehr",
        "colab_type": "code",
        "colab": {}
      },
      "cell_type": "code",
      "source": [
        "#@title Example form fields\n",
        "#@markdown Forms support many types of fields.\n",
        "\n",
        "no_type_checking = ''  #@param\n",
        "string_type = 'example'  #@param {type: \"string\"}\n",
        "slider_value = 142  #@param {type: \"slider\", min: 100, max: 200}\n",
        "number = 102  #@param {type: \"number\"}\n",
        "date = '2010-11-05'  #@param {type: \"date\"}\n",
        "pick_me = \"monday\"  #@param ['monday', 'tuesday', 'wednesday', 'thursday']\n",
        "select_or_input = \"apples\" #@param [\"apples\", \"bananas\", \"oranges\"] {allow-input: true}\n",
        "#@markdown ---\n"
      ],
      "execution_count": 0,
      "outputs": []
    }
  ]
}